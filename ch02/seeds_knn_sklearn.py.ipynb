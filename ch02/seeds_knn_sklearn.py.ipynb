{
 "cells": [
  {
   "cell_type": "code",
   "execution_count": 30,
   "metadata": {},
   "outputs": [
    {
     "name": "stdout",
     "output_type": "stream",
     "text": [
      "Mean accuracy: 92.9%\n"
     ]
    }
   ],
   "source": [
    "# SEEDS DATASET\n",
    "# import functions from .ipynb\n",
    "import import_ipynb\n",
    "\n",
    "import numpy as np\n",
    "#from sklearn.neighborsClassifier import KNeighborsClassifier\n",
    "from sklearn.model_selection import KFold\n",
    "from load import load_dataset\n",
    "from sklearn.neighbors import KNeighborsClassifier\n",
    "\n",
    "\n",
    "feature_names = [\n",
    "    'area',\n",
    "    'perimeter',\n",
    "    'compactness',\n",
    "    'length of kernel',\n",
    "    'width of kernel',\n",
    "    'asymmetry coefficien',\n",
    "    'length of kernel groove',\n",
    "]\n",
    "\n",
    "# classifier implementing the k-nearest neighbors vote\n",
    "# Number of neighbors to use by default for kneighbors queries\n",
    "# K 近邻算法\n",
    "features, labels = load_dataset(\"seeds\")\n",
    "classifier = KNeighborsClassifier(n_neighbors=1)\n",
    "\n",
    "# K 折交叉验证;shuffle 每次划分时是否洗牌\n",
    "# kf is a generator of pairs (training,testing) so that each iteration\n",
    "# implements a separate fold.\n",
    "kf = KFold(n_splits=5, shuffle=True)\n",
    "\n",
    "# means will hold the mean for each fold\n",
    "means = []\n",
    "\n",
    "for training, testing in kf.split(features):\n",
    "    # we fit a model for this fold, then apply it to the tesing data with 'predict'\n",
    "    classifier.fit(features[training], labels[training])\n",
    "    prediction = classifier.predict(features[testing])\n",
    "    # np.mean on an array of booleans returns fraction of correct decisions for this fold\n",
    "    curmean = np.mean(prediction == labels[testing])\n",
    "    means.append(curmean)\n",
    "\n",
    "print(\"Mean accuracy: {:.1%}\".format(np.mean(means)))\n",
    "    \n",
    "#classifier = KNeighborsClassifier(n_neighbors=1)\n",
    "# this functi"
   ]
  },
  {
   "cell_type": "code",
   "execution_count": 31,
   "metadata": {},
   "outputs": [],
   "source": [
    "#构建一个机器学习工作流，首先要设计各个pipelineStage的处理逻辑\n",
    "#也就是任务的切分。比如，数据的清洗、特征的抽取等，然后，\n",
    "#有序的组织各个pipelineStage，这样就创建了一个pipeline"
   ]
  },
  {
   "cell_type": "code",
   "execution_count": 35,
   "metadata": {},
   "outputs": [
    {
     "name": "stdout",
     "output_type": "stream",
     "text": [
      "Mean accuracy: 93.3%\n"
     ]
    }
   ],
   "source": [
    "########################\n",
    "####Decision Boundry####\n",
    "########################\n",
    "# 管道机制\n",
    "# 标准化数据， 计算训练集的平均值和标准差，以便测试数据集使用相同的变换\n",
    "from sklearn.pipeline import Pipeline \n",
    "from sklearn.preprocessing import StandardScaler\n",
    "\n",
    "classifier = KNeighborsClassifier(n_neighbors=1)\n",
    "classifier = Pipeline([('norm', StandardScaler()),('knn', classifier)])\n",
    "\n",
    "for training, testing in kf.split(features):\n",
    "    # we fit a model for this fold, then apply it to the tesing data with 'predict'\n",
    "    classifier.fit(features[training], labels[training])\n",
    "    prediction = classifier.predict(features[testing])\n",
    "    # np.mean on an array of booleans returns fraction of correct decisions for this fold\n",
    "    curmean = np.mean(prediction == labels[testing])\n",
    "    means.append(curmean)\n",
    "\n",
    "print(\"Mean accuracy: {:.1%}\".format(np.mean(means)))\n",
    "    "
   ]
  },
  {
   "cell_type": "code",
   "execution_count": null,
   "metadata": {},
   "outputs": [],
   "source": [
    "########################################################################\n",
    "#### Binary and multiclass classification\n",
    "########################################################################"
   ]
  },
  {
   "cell_type": "code",
   "execution_count": null,
   "metadata": {},
   "outputs": [],
   "source": []
  },
  {
   "cell_type": "code",
   "execution_count": null,
   "metadata": {},
   "outputs": [],
   "source": []
  }
 ],
 "metadata": {
  "kernelspec": {
   "display_name": "Python 3",
   "language": "python",
   "name": "python3"
  },
  "language_info": {
   "codemirror_mode": {
    "name": "ipython",
    "version": 3
   },
   "file_extension": ".py",
   "mimetype": "text/x-python",
   "name": "python",
   "nbconvert_exporter": "python",
   "pygments_lexer": "ipython3",
   "version": "3.7.3"
  }
 },
 "nbformat": 4,
 "nbformat_minor": 2
}
