{
 "cells": [
  {
   "cell_type": "code",
   "execution_count": 1,
   "metadata": {},
   "outputs": [
    {
     "name": "stdout",
     "output_type": "stream",
     "text": [
      "Maxium of setosa:1.9.\n",
      "Minum of setosa:3.0.\n",
      "3 1.6 False 0.94\n"
     ]
    }
   ],
   "source": [
    "from matplotlib import pyplot as plt\n",
    "from sklearn.datasets import load_iris\n",
    "import numpy as np\n",
    "\n",
    "data = load_iris()\n",
    "features = data['data']\n",
    "feature_names = data['feature_names']\n",
    "target = data['target']\n",
    "target_names = data['target_names']\n",
    "# print(data)\n",
    "# print(features[target == 0,0])\n",
    "\n",
    "for t,marker,c in zip(range(3),\">ox\",\"rgb\"):\n",
    "    # We plot each class on its own to get different colored markers\n",
    "    plt.scatter(features[target == t,0],\n",
    "                features[target == t,1],\n",
    "                marker=marker,\n",
    "                c=c)\n",
    "\n",
    "# 将列表list或元组tuple转换为 ndarray 数组\n",
    "labels = np.array([target_names[i] for i in target])\n",
    "plength = features[:, 2]\n",
    "# use numpy operations to get setosa features\n",
    "is_setosa = (labels == 'setosa')\n",
    "# This is the important step:\n",
    "max_setosa =plength[is_setosa].max()\n",
    "min_non_setosa = plength[~is_setosa].min()\n",
    "print('Maxium of setosa:{0}.'.format(max_setosa))\n",
    "print('Minum of setosa:{0}.' .format(min_non_setosa))\n",
    "\n",
    "features = features[~is_setosa]\n",
    "labels = labels[~is_setosa]\n",
    "is_virginica = (labels == 'virginica')\n",
    "\n",
    "# Initialize best_acc to impossibly low value\n",
    "best_acc = -1.0\n",
    "for fi in range(features.shape[1]):\n",
    "    # We are going to generate all possible threshold for this feature\n",
    "    thresh = features[:,fi].copy()\n",
    "    thresh.sort()\n",
    "    # Now test all thresholds:\n",
    "    for t in thresh:\n",
    "        #get the vector for feature fi\n",
    "        feature_i = features[:,fi]\n",
    "        pred = (feature_i > t)\n",
    "        acc = (pred == is_virginica).mean()\n",
    "        rec_acc = (pred == ~is_virginica).mean()\n",
    "        if rec_acc > acc:\n",
    "            reverse = True\n",
    "            acc = rec_acc\n",
    "        else:\n",
    "            reverse = False\n",
    "            \n",
    "        if acc > best_acc:\n",
    "            best_acc = acc\n",
    "            best_fi = fi\n",
    "            best_t = t\n",
    "            best_reverse = reverse\n",
    "#         if example[best_fi] > t: print('virginica')\n",
    "#         else: print('versicolor')\n",
    "print(best_fi, best_t, best_reverse, best_acc)\n",
    "\n",
    "        "
   ]
  },
  {
   "cell_type": "code",
   "execution_count": 67,
   "metadata": {},
   "outputs": [
    {
     "ename": "NameError",
     "evalue": "name 'learn_model' is not defined",
     "output_type": "error",
     "traceback": [
      "\u001b[0;31m---------------------------------------------------------------------------\u001b[0m",
      "\u001b[0;31mNameError\u001b[0m                                 Traceback (most recent call last)",
      "\u001b[0;32m<ipython-input-67-025391fedd73>\u001b[0m in \u001b[0;36m<module>\u001b[0;34m\u001b[0m\n\u001b[1;32m      5\u001b[0m     \u001b[0mtraining\u001b[0m\u001b[0;34m[\u001b[0m\u001b[0mei\u001b[0m\u001b[0;34m]\u001b[0m \u001b[0;34m=\u001b[0m \u001b[0;32mFalse\u001b[0m\u001b[0;34m\u001b[0m\u001b[0;34m\u001b[0m\u001b[0m\n\u001b[1;32m      6\u001b[0m     \u001b[0mtesting\u001b[0m \u001b[0;34m=\u001b[0m \u001b[0;34m~\u001b[0m\u001b[0mtraining\u001b[0m\u001b[0;34m\u001b[0m\u001b[0;34m\u001b[0m\u001b[0m\n\u001b[0;32m----> 7\u001b[0;31m     \u001b[0mmodel\u001b[0m \u001b[0;34m=\u001b[0m \u001b[0mlearn_model\u001b[0m\u001b[0;34m(\u001b[0m\u001b[0mfeatures\u001b[0m\u001b[0;34m[\u001b[0m\u001b[0mtraining\u001b[0m\u001b[0;34m,\u001b[0m \u001b[0mvirginica\u001b[0m\u001b[0;34m[\u001b[0m\u001b[0mtraining\u001b[0m\u001b[0;34m]\u001b[0m\u001b[0;34m]\u001b[0m\u001b[0;34m)\u001b[0m\u001b[0;34m\u001b[0m\u001b[0;34m\u001b[0m\u001b[0m\n\u001b[0m",
      "\u001b[0;31mNameError\u001b[0m: name 'learn_model' is not defined"
     ]
    }
   ],
   "source": [
    "error = 0.0\n",
    "for ei in range(len(features)):\n",
    "    # select all but the one at position 'ei':\n",
    "    training = np.ones(len(features), bool)\n",
    "    training[ei] = False\n",
    "    testing = ~training\n",
    "    model = learn_model(features[training, virginica[training]])"
   ]
  },
  {
   "cell_type": "code",
   "execution_count": null,
   "metadata": {},
   "outputs": [],
   "source": []
  }
 ],
 "metadata": {
  "kernelspec": {
   "display_name": "Python 3",
   "language": "python",
   "name": "python3"
  },
  "language_info": {
   "codemirror_mode": {
    "name": "ipython",
    "version": 3
   },
   "file_extension": ".py",
   "mimetype": "text/x-python",
   "name": "python",
   "nbconvert_exporter": "python",
   "pygments_lexer": "ipython3",
   "version": "3.7.3"
  }
 },
 "nbformat": 4,
 "nbformat_minor": 2
}
