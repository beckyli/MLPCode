{
 "cells": [
  {
   "cell_type": "code",
   "execution_count": 3,
   "metadata": {},
   "outputs": [],
   "source": [
    "# Term Frequency - inverse document frequency(TF_IDF)\n",
    "import scipy as sp\n",
    "\n",
    "def tfidf(term, doc, corpus):\n",
    "    tf = doc.count(term) / len(doc)\n",
    "    num_docs_with_term = len([d for d in corpus if term in d ])\n",
    "    idf = sp.log(len(corpus)/num_docs_with_term)\n",
    "    return tf*idf"
   ]
  },
  {
   "cell_type": "code",
   "execution_count": 16,
   "metadata": {},
   "outputs": [
    {
     "name": "stdout",
     "output_type": "stream",
     "text": [
      "3\n",
      "0.0\n",
      "1\n",
      "2\n",
      "0.13515503603605478\n",
      "1\n"
     ]
    }
   ],
   "source": [
    "a, abb, abc = [\"a\"], [\"a\", \"b\", \"b\"], [\"a\", \"b\", \"c\"]\n",
    "D = [a, abb, abc]\n",
    "num_docs_with_term = len([d for d in D if \"a\" in d ])\n",
    "print(num_docs_with_term)\n",
    "print(tfidf(\"a\", a, D))\n",
    "print(a.count(\"a\"))\n",
    "\n",
    "num_docs_with_term = len([d for d in D if \"b\" in d ])\n",
    "print(num_docs_with_term)\n",
    "print(tfidf(\"b\", abc, D))\n",
    "print(abc.count(\"b\"))"
   ]
  },
  {
   "cell_type": "code",
   "execution_count": null,
   "metadata": {},
   "outputs": [],
   "source": []
  }
 ],
 "metadata": {
  "kernelspec": {
   "display_name": "Python 3",
   "language": "python",
   "name": "python3"
  },
  "language_info": {
   "codemirror_mode": {
    "name": "ipython",
    "version": 3
   },
   "file_extension": ".py",
   "mimetype": "text/x-python",
   "name": "python",
   "nbconvert_exporter": "python",
   "pygments_lexer": "ipython3",
   "version": "3.7.3"
  }
 },
 "nbformat": 4,
 "nbformat_minor": 2
}
